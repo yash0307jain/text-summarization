{
 "cells": [
  {
   "cell_type": "markdown",
   "id": "681f24c6",
   "metadata": {},
   "source": [
    "# Import the necessary libraries"
   ]
  },
  {
   "cell_type": "code",
   "execution_count": 1,
   "id": "fefdcbf9",
   "metadata": {},
   "outputs": [],
   "source": [
    "import bs4 as bs\n",
    "import urllib.request\n",
    "import re\n",
    "import heapq\n",
    "\n",
    "from nltk import sent_tokenize, word_tokenize\n",
    "from nltk.corpus import stopwords\n",
    "\n",
    "import matplotlib.pyplot as plt"
   ]
  },
  {
   "cell_type": "markdown",
   "id": "c3de6e9f",
   "metadata": {},
   "source": [
    "# Loading the data from wikipedia"
   ]
  },
  {
   "cell_type": "code",
   "execution_count": 2,
   "id": "1b3a42f9",
   "metadata": {},
   "outputs": [],
   "source": [
    "source = urllib.request.urlopen('https://simple.wikipedia.org/wiki/Global_warming').read()\n",
    "soup = bs.BeautifulSoup(source, 'html.parser')"
   ]
  },
  {
   "cell_type": "markdown",
   "id": "88fc9563",
   "metadata": {},
   "source": [
    "# Fetching the paragraph tag"
   ]
  },
  {
   "cell_type": "code",
   "execution_count": 3,
   "id": "5d4024ab",
   "metadata": {},
   "outputs": [],
   "source": [
    "text = \"\"\n",
    "for paragraph in soup.find_all('p'):\n",
    "    text += paragraph.text"
   ]
  },
  {
   "cell_type": "markdown",
   "id": "71932972",
   "metadata": {},
   "source": [
    "# Function to clean the text"
   ]
  },
  {
   "cell_type": "code",
   "execution_count": 4,
   "id": "34b8dc54",
   "metadata": {},
   "outputs": [],
   "source": [
    "def cleaning(text):\n",
    "    text = re.sub(r'\\[[0-9]*\\]', ' ', text)\n",
    "    text = re.sub(r'\\s+', ' ', text)\n",
    "    \n",
    "    clean_text = text.lower()\n",
    "    clean_text = re.sub(r'\\W', ' ', clean_text)\n",
    "    clean_text = re.sub(r'\\d', ' ', clean_text)\n",
    "    clean_text = re.sub(r'\\s+',' ', clean_text)\n",
    "    \n",
    "    return text, clean_text"
   ]
  },
  {
   "cell_type": "code",
   "execution_count": 5,
   "id": "9d2e4da3",
   "metadata": {},
   "outputs": [],
   "source": [
    "text, clean_text = cleaning(text)"
   ]
  },
  {
   "cell_type": "markdown",
   "id": "3ef8a28e",
   "metadata": {},
   "source": [
    "# Sentence tokenization"
   ]
  },
  {
   "cell_type": "code",
   "execution_count": 6,
   "id": "3040c2dd",
   "metadata": {},
   "outputs": [
    {
     "data": {
      "text/plain": [
       "['Global warming is the current rise in temperature of the air and oceans.',\n",
       " 'It happens because humans burn coal, oil and natural gas, and cut down forests.',\n",
       " 'Average temperatures today are about 1 °C (1.8 °F) higher than before people started burning a lot of coal around 1750.',\n",
       " 'In some parts of the world it is less and some more.',\n",
       " 'Most climate scientists say that by the year 2100 temperatures will be 2 °C (3.6 °F) to 4 °C (7.2 °F) higher than they were before 1750.']"
      ]
     },
     "execution_count": 6,
     "metadata": {},
     "output_type": "execute_result"
    }
   ],
   "source": [
    "sentences = sent_tokenize(text)\n",
    "sentences[:5]"
   ]
  },
  {
   "cell_type": "markdown",
   "id": "c7f73dac",
   "metadata": {},
   "source": [
    "# Counting the number of words"
   ]
  },
  {
   "cell_type": "code",
   "execution_count": 7,
   "id": "f23c8021",
   "metadata": {},
   "outputs": [],
   "source": [
    "word2count = {}\n",
    "for word in word_tokenize(clean_text):\n",
    "    if word not in stopwords.words('english'):\n",
    "        if word not in word2count.keys():\n",
    "            word2count[word] = 1\n",
    "        else:\n",
    "            word2count[word] += 1"
   ]
  },
  {
   "cell_type": "code",
   "execution_count": 8,
   "id": "3378402a",
   "metadata": {},
   "outputs": [
    {
     "data": {
      "text/plain": [
       "[('global', 7),\n",
       " ('warming', 8),\n",
       " ('current', 2),\n",
       " ('rise', 6),\n",
       " ('temperature', 17),\n",
       " ('air', 8),\n",
       " ('oceans', 2),\n",
       " ('happens', 1),\n",
       " ('humans', 2),\n",
       " ('burn', 8)]"
      ]
     },
     "execution_count": 8,
     "metadata": {},
     "output_type": "execute_result"
    }
   ],
   "source": [
    "list(word2count.items())[:10]"
   ]
  },
  {
   "cell_type": "markdown",
   "id": "f4c8be44",
   "metadata": {},
   "source": [
    "# Bar graph for each of the word"
   ]
  },
  {
   "cell_type": "code",
   "execution_count": 9,
   "id": "eb48fc8d",
   "metadata": {},
   "outputs": [
    {
     "data": {
      "image/png": "[encoded data removed]",
      "text/plain": [
       "<Figure size 1440x504 with 1 Axes>"
      ]
     },
     "metadata": {
      "needs_background": "light"
     },
     "output_type": "display_data"
    }
   ],
   "source": [
    "plt.figure(figsize=(20,7))\n",
    "plt.bar(list(word2count.keys())[:30], list(word2count.values())[:30])\n",
    "plt.title('Frequency of the words')\n",
    "plt.xlabel('Words')\n",
    "plt.xticks(rotation=45)\n",
    "plt.ylabel('No of words')\n",
    "plt.show()"
   ]
  },
  {
   "cell_type": "markdown",
   "id": "a867b95f",
   "metadata": {},
   "source": [
    "# Normalize the data"
   ]
  },
  {
   "cell_type": "code",
   "execution_count": 10,
   "id": "9c163f43",
   "metadata": {},
   "outputs": [],
   "source": [
    "for key in word2count.keys():\n",
    "    word2count[key] = word2count[key]/max(word2count.values())"
   ]
  },
  {
   "cell_type": "code",
   "execution_count": 11,
   "id": "af30b2b8",
   "metadata": {},
   "outputs": [
    {
     "data": {
      "text/plain": [
       "[('global', 0.3888888888888889),\n",
       " ('warming', 0.4444444444444444),\n",
       " ('current', 0.1111111111111111),\n",
       " ('rise', 0.3333333333333333),\n",
       " ('temperature', 0.9444444444444444)]"
      ]
     },
     "execution_count": 11,
     "metadata": {},
     "output_type": "execute_result"
    }
   ],
   "source": [
    "list(word2count.items())[:5]"
   ]
  },
  {
   "cell_type": "markdown",
   "id": "757668d6",
   "metadata": {},
   "source": [
    "# Plot after normalizsation of the data"
   ]
  },
  {
   "cell_type": "code",
   "execution_count": 12,
   "id": "aee09726",
   "metadata": {},
   "outputs": [
    {
     "data": {
      "image/png": "[encoded data removed]",
      "text/plain": [
       "<Figure size 1440x504 with 1 Axes>"
      ]
     },
     "metadata": {
      "needs_background": "light"
     },
     "output_type": "display_data"
    }
   ],
   "source": [
    "plt.figure(figsize=(20,7))\n",
    "plt.bar(list(word2count.keys())[:30], list(word2count.values())[:30])\n",
    "plt.title('Frequency of the words')\n",
    "plt.xlabel('Words')\n",
    "plt.xticks(rotation=45)\n",
    "plt.ylabel('No of words')\n",
    "plt.show()"
   ]
  },
  {
   "cell_type": "markdown",
   "id": "3eb39ce5",
   "metadata": {},
   "source": [
    "# Scoring sentences on the basis of word score for each word present in it"
   ]
  },
  {
   "cell_type": "code",
   "execution_count": 13,
   "id": "a2ce9061",
   "metadata": {},
   "outputs": [],
   "source": [
    "sent2score = {}\n",
    "for sentence in sentences:\n",
    "    for word in word_tokenize(sentence.lower()):\n",
    "        if word in word2count.keys():\n",
    "            if len(sentence.split(' ')) < 25:\n",
    "                if sentence not in sent2score.keys():\n",
    "                    sent2score[sentence] = word2count[word]\n",
    "                else:\n",
    "                    sent2score[sentence] += word2count[word]"
   ]
  },
  {
   "cell_type": "code",
   "execution_count": 14,
   "id": "465b72d3",
   "metadata": {},
   "outputs": [
    {
     "data": {
      "text/plain": [
       "[('Global warming is the current rise in temperature of the air and oceans.',\n",
       "  2.777777777777778),\n",
       " ('It happens because humans burn coal, oil and natural gas, and cut down forests.',\n",
       "  2.2777777777777772),\n",
       " ('Average temperatures today are about 1 °C (1.8 °F) higher than before people started burning a lot of coal around 1750.',\n",
       "  3.3333333333333335),\n",
       " ('In some parts of the world it is less and some more.', 0.8666666666666667),\n",
       " ('The extra warmth melts ice caps around the world.', 1.5333333333333332)]"
      ]
     },
     "execution_count": 14,
     "metadata": {},
     "output_type": "execute_result"
    }
   ],
   "source": [
    "list(sent2score.items())[:5]"
   ]
  },
  {
   "cell_type": "markdown",
   "id": "a1d110a7",
   "metadata": {},
   "source": [
    "# Fetching the top 5 sentences"
   ]
  },
  {
   "cell_type": "code",
   "execution_count": 15,
   "id": "182c853e",
   "metadata": {},
   "outputs": [],
   "source": [
    "best_sentences = heapq.nlargest(5, sent2score, key=sent2score.get)"
   ]
  },
  {
   "cell_type": "markdown",
   "id": "dc8e17b6",
   "metadata": {},
   "source": [
    "# Creating summary from best sentences"
   ]
  },
  {
   "cell_type": "code",
   "execution_count": 16,
   "id": "709cadfc",
   "metadata": {},
   "outputs": [
    {
     "data": {
      "text/plain": [
       "\"People can also use energy sources that don't burn fossil fuel, like solar panels or electricity from nuclear power or wind power.. When people burn fossil fuels like coal, oil and natural gas this adds carbon dioxide into the air.. Soon after, scientists studying all different kinds of science began to work together to figure out the mystery of GHG emissions and their effects.. An ice core, captured through drilling, provided clear evidence that carbon dioxide levels have risen.. Many cities are sea ports and under threat of flooding if the present sea level rises.\""
      ]
     },
     "execution_count": 16,
     "metadata": {},
     "output_type": "execute_result"
    }
   ],
   "source": [
    "'. '.join(best_sentences)"
   ]
  }
 ],
 "metadata": {
  "kernelspec": {
   "display_name": "Python 3 (ipykernel)",
   "language": "python",
   "name": "python3"
  },
  "language_info": {
   "codemirror_mode": {
    "name": "ipython",
    "version": 3
   },
   "file_extension": ".py",
   "mimetype": "text/x-python",
   "name": "python",
   "nbconvert_exporter": "python",
   "pygments_lexer": "ipython3",
   "version": "3.9.7"
  }
 },
 "nbformat": 4,
 "nbformat_minor": 5
}
